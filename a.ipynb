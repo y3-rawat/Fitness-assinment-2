{
 "cells": [
  {
   "cell_type": "code",
   "execution_count": 1,
   "metadata": {},
   "outputs": [],
   "source": [
    "current_body_weight=30\n",
    "goal_of_body_weight=50\n",
    "fitness_goal=\"weight gain\"\n",
    "recommendation=\"eat bananas with milk\"\n",
    "\n",
    "links=\"None\""
   ]
  },
  {
   "cell_type": "code",
   "execution_count": 2,
   "metadata": {},
   "outputs": [
    {
     "name": "stderr",
     "output_type": "stream",
     "text": [
      "c:\\Users\\y3raw\\AppData\\Local\\Programs\\Python\\Python39\\lib\\site-packages\\tqdm\\auto.py:21: TqdmWarning: IProgress not found. Please update jupyter and ipywidgets. See https://ipywidgets.readthedocs.io/en/stable/user_install.html\n",
      "  from .autonotebook import tqdm as notebook_tqdm\n"
     ]
    }
   ],
   "source": [
    "import main1\n",
    "def a(input):\n",
    "    main1.best_information(current_body_weight=current_body_weight,goal_of_body_weight=goal_of_body_weight,fitness_goal=fitness_goal,recommendation=recommendation,links=links,user_query=input,o=1)"
   ]
  },
  {
   "cell_type": "code",
   "execution_count": 3,
   "metadata": {},
   "outputs": [
    {
     "ename": "UnboundLocalError",
     "evalue": "local variable 'only_onece' referenced before assignment",
     "output_type": "error",
     "traceback": [
      "\u001b[1;31m---------------------------------------------------------------------------\u001b[0m",
      "\u001b[1;31mUnboundLocalError\u001b[0m                         Traceback (most recent call last)",
      "Cell \u001b[1;32mIn[3], line 1\u001b[0m\n\u001b[1;32m----> 1\u001b[0m \u001b[43ma\u001b[49m\u001b[43m(\u001b[49m\u001b[38;5;124;43m\"\u001b[39;49m\u001b[38;5;124;43mhellow\u001b[39;49m\u001b[38;5;124;43m\"\u001b[39;49m\u001b[43m)\u001b[49m\n",
      "Cell \u001b[1;32mIn[2], line 3\u001b[0m, in \u001b[0;36ma\u001b[1;34m(input)\u001b[0m\n\u001b[0;32m      2\u001b[0m \u001b[38;5;28;01mdef\u001b[39;00m \u001b[38;5;21ma\u001b[39m(\u001b[38;5;28minput\u001b[39m):\n\u001b[1;32m----> 3\u001b[0m     \u001b[43mmain1\u001b[49m\u001b[38;5;241;43m.\u001b[39;49m\u001b[43mbest_information\u001b[49m\u001b[43m(\u001b[49m\u001b[43mcurrent_body_weight\u001b[49m\u001b[38;5;241;43m=\u001b[39;49m\u001b[43mcurrent_body_weight\u001b[49m\u001b[43m,\u001b[49m\u001b[43mgoal_of_body_weight\u001b[49m\u001b[38;5;241;43m=\u001b[39;49m\u001b[43mgoal_of_body_weight\u001b[49m\u001b[43m,\u001b[49m\u001b[43mfitness_goal\u001b[49m\u001b[38;5;241;43m=\u001b[39;49m\u001b[43mfitness_goal\u001b[49m\u001b[43m,\u001b[49m\u001b[43mrecommendation\u001b[49m\u001b[38;5;241;43m=\u001b[39;49m\u001b[43mrecommendation\u001b[49m\u001b[43m,\u001b[49m\u001b[43mlinks\u001b[49m\u001b[38;5;241;43m=\u001b[39;49m\u001b[43mlinks\u001b[49m\u001b[43m,\u001b[49m\u001b[43muser_query\u001b[49m\u001b[38;5;241;43m=\u001b[39;49m\u001b[38;5;28;43minput\u001b[39;49m\u001b[43m)\u001b[49m\n",
      "File \u001b[1;32mc:\\Users\\y3raw\\OneDrive\\Desktop\\Assesment\\assesment2\\main1.py:189\u001b[0m, in \u001b[0;36mbest_information\u001b[1;34m(user_query, current_body_weight, goal_of_body_weight, fitness_goal, recommendation, links)\u001b[0m\n\u001b[0;32m    156\u001b[0m \u001b[38;5;28;01mdef\u001b[39;00m \u001b[38;5;21mbest_information\u001b[39m(user_query,current_body_weight,goal_of_body_weight,fitness_goal,recommendation,links \u001b[38;5;241m=\u001b[39m\u001b[38;5;28;01mNone\u001b[39;00m):\n\u001b[0;32m    157\u001b[0m     prompt \u001b[38;5;241m=\u001b[39m \u001b[38;5;124mf\u001b[39m\u001b[38;5;124m\"\"\"\u001b[39m\n\u001b[0;32m    158\u001b[0m \u001b[38;5;124m            \u001b[39m\u001b[38;5;132;01m{\u001b[39;00muser_requiremnt\u001b[38;5;132;01m}\u001b[39;00m\n\u001b[0;32m    159\u001b[0m \u001b[38;5;124m           NOTE -: MAIN GOAL IS TO ANSWER THE USER QUESTION every things else is just a refrence\u001b[39m\n\u001b[1;32m   (...)\u001b[0m\n\u001b[0;32m    187\u001b[0m \u001b[38;5;124m          NOTE -: FOCUS ON WHAT USER HAS SAID user_message -> \u001b[39m\u001b[38;5;132;01m{\u001b[39;00muser_query\u001b[38;5;132;01m}\u001b[39;00m\u001b[38;5;124m answer should be of this \u001b[39m\n\u001b[0;32m    188\u001b[0m \u001b[38;5;124m          \u001b[39m\u001b[38;5;124m\"\"\"\u001b[39m\n\u001b[1;32m--> 189\u001b[0m     \u001b[38;5;28;01mif\u001b[39;00m \u001b[43monly_onece\u001b[49m \u001b[38;5;241m==\u001b[39m\u001b[38;5;241m0\u001b[39m:\n\u001b[0;32m    190\u001b[0m       prompt \u001b[38;5;241m=\u001b[39m chat(prompt)\n\u001b[0;32m    191\u001b[0m       only_onece \u001b[38;5;241m=\u001b[39m\u001b[38;5;241m1\u001b[39m\n",
      "\u001b[1;31mUnboundLocalError\u001b[0m: local variable 'only_onece' referenced before assignment"
     ]
    }
   ],
   "source": [
    "a(\"hellow\")"
   ]
  },
  {
   "cell_type": "code",
   "execution_count": null,
   "metadata": {},
   "outputs": [],
   "source": []
  },
  {
   "cell_type": "code",
   "execution_count": null,
   "metadata": {},
   "outputs": [],
   "source": []
  }
 ],
 "metadata": {
  "kernelspec": {
   "display_name": "Python 3",
   "language": "python",
   "name": "python3"
  },
  "language_info": {
   "codemirror_mode": {
    "name": "ipython",
    "version": 3
   },
   "file_extension": ".py",
   "mimetype": "text/x-python",
   "name": "python",
   "nbconvert_exporter": "python",
   "pygments_lexer": "ipython3",
   "version": "3.9.13"
  }
 },
 "nbformat": 4,
 "nbformat_minor": 2
}
